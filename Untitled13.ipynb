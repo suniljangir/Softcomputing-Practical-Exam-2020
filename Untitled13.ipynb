{
  "nbformat": 4,
  "nbformat_minor": 0,
  "metadata": {
    "colab": {
      "name": "Untitled13.ipynb",
      "provenance": [],
      "collapsed_sections": [],
      "authorship_tag": "ABX9TyOcow3D4eLQWt/FoUdcPRZ3",
      "include_colab_link": true
    },
    "kernelspec": {
      "name": "python3",
      "display_name": "Python 3"
    }
  },
  "cells": [
    {
      "cell_type": "markdown",
      "metadata": {
        "id": "view-in-github",
        "colab_type": "text"
      },
      "source": [
        "<a href=\"https://colab.research.google.com/github/arunima27-3-99/Softcomputing-Practical-Exam-2020/blob/main/Untitled13.ipynb\" target=\"_parent\"><img src=\"https://colab.research.google.com/assets/colab-badge.svg\" alt=\"Open In Colab\"/></a>"
      ]
    },
    {
      "cell_type": "markdown",
      "metadata": {
        "id": "NQaY4s-Dx8K6"
      },
      "source": [
        "AIM: Write a program in Python to implement single layer perceptron for AND function."
      ]
    },
    {
      "cell_type": "markdown",
      "metadata": {
        "id": "bf-OLr-wyKov"
      },
      "source": [
        "CODE:"
      ]
    },
    {
      "cell_type": "code",
      "metadata": {
        "id": "JXpZfEeKyMeh"
      },
      "source": [
        "import numpy as np"
      ],
      "execution_count": 1,
      "outputs": []
    },
    {
      "cell_type": "code",
      "metadata": {
        "colab": {
          "base_uri": "https://localhost:8080/"
        },
        "id": "3HtGN_VFx2Lb",
        "outputId": "127829a6-c2a3-4633-914f-bce77fb85b4e"
      },
      "source": [
        "x=np.array([[1,1],[1,-1],[-1,1],[-1,-1]])\r\n",
        "t=np.array([[1],[1],[1],[-1]])\r\n",
        "w=np.array([[0],[0]])\r\n",
        "b=0\r\n",
        "theta=float(input(\"Enter new theta:\"))\r\n",
        "alpha=float(input(\"Enter new alpha:\"))\r\n",
        "yin=np.zeros(shape=(4,1))\r\n",
        "y=np.zeros(shape=(4,1))\r\n",
        "i=0\r\n",
        "found=0\r\n",
        "while(found==0):\r\n",
        "    yin=x[i][0]*w[0]+x[i][1]*w[1]\r\n",
        "    yin = yin+b\r\n",
        "    if(yin>theta):\r\n",
        "        y[i] = 1\r\n",
        "    elif(yin<=theta and yin>=-theta):\r\n",
        "        y[i]=0\r\n",
        "    else:\r\n",
        "        y[i]=-1\r\n",
        "    if (y[i]==t[i]):\r\n",
        "        print(\"NO UPDATION REQUIRED\")\r\n",
        "        print(y[i])\r\n",
        "        if(i<3):\r\n",
        "            i=i+1\r\n",
        "        else:\r\n",
        "            i=0\r\n",
        "    else:\r\n",
        "        print(\"MODEL IS NOT TRAINED\")\r\n",
        "        print(\"The value of output is\")\r\n",
        "        print(y)\r\n",
        "        w[0]=w[0]+alpha*x[i][0]*t[i]\r\n",
        "        w[1]=w[1]+alpha*x[i][1]*t[i]\r\n",
        "        b = b+alpha*t[i]\r\n",
        "        if(i<3):\r\n",
        "            i=i+1\r\n",
        "        else:\r\n",
        "            i=0\r\n",
        "    if(y==t).all():       \r\n",
        "        found=1\r\n",
        "print(\"The final weight matrix is:\")\r\n",
        "print(w)\r\n",
        "print(\"The final output is:\")\r\n",
        "print(y)\r\n",
        "\r\n"
      ],
      "execution_count": 3,
      "outputs": [
        {
          "output_type": "stream",
          "text": [
            "Enter new theta:0.2\n",
            "Enter new alpha:1\n",
            "MODEL IS NOT TRAINED\n",
            "The value of output is\n",
            "[[0.]\n",
            " [0.]\n",
            " [0.]\n",
            " [0.]]\n",
            "NO UPDATION REQUIRED\n",
            "[1.]\n",
            "NO UPDATION REQUIRED\n",
            "[1.]\n",
            "NO UPDATION REQUIRED\n",
            "[-1.]\n",
            "NO UPDATION REQUIRED\n",
            "[1.]\n",
            "The final weight matrix is:\n",
            "[[1]\n",
            " [1]]\n",
            "The final output is:\n",
            "[[ 1.]\n",
            " [ 1.]\n",
            " [ 1.]\n",
            " [-1.]]\n"
          ],
          "name": "stdout"
        }
      ]
    },
    {
      "cell_type": "code",
      "metadata": {
        "id": "HWSkM06pyp-p"
      },
      "source": [
        ""
      ],
      "execution_count": null,
      "outputs": []
    }
  ]
}