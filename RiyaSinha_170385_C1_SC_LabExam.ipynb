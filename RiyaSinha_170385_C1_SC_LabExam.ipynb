{
  "nbformat": 4,
  "nbformat_minor": 0,
  "metadata": {
    "colab": {
      "name": "RiyaSinha_170385_C1_SC_LabExam.ipynb",
      "provenance": [],
      "authorship_tag": "ABX9TyO0WN4WYVdc2rrT7/L4huEt",
      "include_colab_link": true
    },
    "kernelspec": {
      "name": "python3",
      "display_name": "Python 3"
    }
  },
  "cells": [
    {
      "cell_type": "markdown",
      "metadata": {
        "id": "view-in-github",
        "colab_type": "text"
      },
      "source": [
        "<a href=\"https://colab.research.google.com/github/riya2514/Softcomputing-Practical-Exam-2020/blob/main/RiyaSinha_170385_C1_SC_LabExam.ipynb\" target=\"_parent\"><img src=\"https://colab.research.google.com/assets/colab-badge.svg\" alt=\"Open In Colab\"/></a>"
      ]
    },
    {
      "cell_type": "markdown",
      "metadata": {
        "id": "-6GtUw9lyHvw"
      },
      "source": [
        "## Aim: Write a program to implement Depth Limited Search Algorithm in Python programming Language"
      ]
    },
    {
      "cell_type": "code",
      "metadata": {
        "colab": {
          "base_uri": "https://localhost:8080/"
        },
        "id": "lrJD0sSHx4Cw",
        "outputId": "48879bd7-298c-4e0e-bfc9-9f64898be183"
      },
      "source": [
        "ADJ = {}\r\n",
        "\"\"\"\"\r\n",
        "SRRXG\r\n",
        "RXRXR\r\n",
        "RRRXR\r\n",
        "XRXRR\r\n",
        "RRRRX\r\n",
        "\"\"\"\r\n",
        "ADJ['S'] = ['2', '6']\r\n",
        "ADJ['2'] = ['S', '3']\r\n",
        "ADJ['3'] = ['2','8']\r\n",
        "ADJ['G'] = ['10']\r\n",
        "ADJ['6'] = ['S', '11']\r\n",
        "ADJ['8'] = ['3', '13']\r\n",
        "ADJ['10'] = ['G', '15']\r\n",
        "ADJ['11'] = ['6', '12']\r\n",
        "ADJ['12'] = ['11', '13', '17']\r\n",
        "ADJ['13'] = ['8', '12']\r\n",
        "ADJ['15'] = ['10', '20']\r\n",
        "ADJ['17'] = ['12','22']\r\n",
        "ADJ['19'] = ['20', '24']\r\n",
        "ADJ['20'] = ['15','19']\r\n",
        "ADJ['21'] = ['22']\r\n",
        "ADJ['22'] = ['17','21','23']\r\n",
        "ADJ['23'] = ['22', '24']\r\n",
        "ADJ['24'] = ['19','23']\r\n",
        "print (\"adj\",ADJ)\r\n",
        "# keep track of visited nodes\r\n",
        "visited = {str(i) : False for i in range(1,26)}\r\n",
        "visited['S'] = False\r\n",
        "visited['G'] = False\r\n",
        "\r\n",
        "def dls(start, goal,limit):\r\n",
        "    depth = 0\r\n",
        "    \r\n",
        "    OPEN=[]\r\n",
        "    CLOSED=[]\r\n",
        "    OPEN.append(start)\r\n",
        "    visited[\"S\"] = True\r\n",
        "    while OPEN != []: # Step 2\r\n",
        "        if depth<=limit:\r\n",
        "            current = OPEN.pop() \r\n",
        "            \r\n",
        "            if current == goal:\r\n",
        "                print(\"Goal Node Found\")\r\n",
        "                return True\r\n",
        "            else:\r\n",
        "                lst = successors(current)\r\n",
        "                for i in lst:\r\n",
        "                    # try to visit a node in future, if not already been to it\r\n",
        "                    if(not(visited[i])):\r\n",
        "                        OPEN.append(i)\r\n",
        "                        \r\n",
        "                        visited[i] = True\r\n",
        "                depth +=1\r\n",
        "\r\n",
        "        else:\r\n",
        "            print(\"Not found within depth limit\")\r\n",
        "            return False\r\n",
        "        print(OPEN)\r\n",
        "        #print(\"node visited\",i,sep='>',end='\\n')\r\n",
        "    return False\r\n",
        "\r\n",
        "def successors(city):\r\n",
        "    return ADJ[city]\r\n",
        "\r\n",
        "def test():\r\n",
        "    start = 'S'\r\n",
        "    goal = 'G'\r\n",
        "    limit=int(input(\"ENTER THE DEPTH LIMIT\"))\r\n",
        "    print(\"Starting a dls from \\n[ \" + start+\" ]\")\r\n",
        "    print(dls(start, goal,limit))\r\n",
        "\r\n",
        "\r\n",
        "if __name__ == \"__main__\":\r\n",
        "    test()"
      ],
      "execution_count": 1,
      "outputs": [
        {
          "output_type": "stream",
          "text": [
            "adj {'S': ['2', '6'], '2': ['S', '3'], '3': ['2', '8'], 'G': ['10'], '6': ['S', '11'], '8': ['3', '13'], '10': ['G', '15'], '11': ['6', '12'], '12': ['11', '13', '17'], '13': ['8', '12'], '15': ['10', '20'], '17': ['12', '22'], '19': ['20', '24'], '20': ['15', '19'], '21': ['22'], '22': ['17', '21', '23'], '23': ['22', '24'], '24': ['19', '23']}\n",
            "ENTER THE DEPTH LIMIT 200\n",
            "Starting a dls from \n",
            "[ S ]\n",
            "['2', '6']\n",
            "['2', '11']\n",
            "['2', '12']\n",
            "['2', '13', '17']\n",
            "['2', '13', '22']\n",
            "['2', '13', '21', '23']\n",
            "['2', '13', '21', '24']\n",
            "['2', '13', '21', '19']\n",
            "['2', '13', '21', '20']\n",
            "['2', '13', '21', '15']\n",
            "['2', '13', '21', '10']\n",
            "['2', '13', '21', 'G']\n",
            "Goal Node Found\n",
            "True\n"
          ],
          "name": "stdout"
        }
      ]
    },
    {
      "cell_type": "markdown",
      "metadata": {
        "id": "R8S2N3SaywLx"
      },
      "source": [
        "# Submitted To: S.K. Jangir\r\n",
        "\r\n",
        "# Submitted By: Riya Sinha (4th Year, 170385, C1)"
      ]
    },
    {
      "cell_type": "code",
      "metadata": {
        "id": "XtQgYCDvybQ1"
      },
      "source": [
        ""
      ],
      "execution_count": null,
      "outputs": []
    }
  ]
}