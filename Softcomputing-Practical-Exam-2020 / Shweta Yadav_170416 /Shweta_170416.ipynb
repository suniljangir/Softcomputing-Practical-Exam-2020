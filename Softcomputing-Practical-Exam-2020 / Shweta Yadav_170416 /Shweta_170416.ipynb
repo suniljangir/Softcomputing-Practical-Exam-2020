{
  "nbformat": 4,
  "nbformat_minor": 0,
  "metadata": {
    "colab": {
      "name": "Shweta-170416.ipynb",
      "provenance": [],
      "collapsed_sections": [],
      "authorship_tag": "ABX9TyPKQcZv7rP98rzErL9dUL+k",
      "include_colab_link": true
    },
    "kernelspec": {
      "name": "python3",
      "display_name": "Python 3"
    }
  },
  "cells": [
    {
      "cell_type": "markdown",
      "metadata": {
        "id": "view-in-github",
        "colab_type": "text"
      },
      "source": [
        "<a href=\"https://colab.research.google.com/github/shwetay58/Softcomputing-Practical-Exam-2020/blob/main/Softcomputing-Practical-Exam-2020%20/%20Shweta%20Yadav_170416%20/Shweta_170416.ipynb\" target=\"_parent\"><img src=\"https://colab.research.google.com/assets/colab-badge.svg\" alt=\"Open In Colab\"/></a>"
      ]
    },
    {
      "cell_type": "markdown",
      "metadata": {
        "id": "4GJ__Kk4zvv5"
      },
      "source": [
        "AIM:Write a program to implement water jug problem with two jugs, the capacity of both the jugs should be entered by user. The quantity of the water to be stored should also be dynamic. The output will show all the steps to get the final state."
      ]
    },
    {
      "cell_type": "code",
      "metadata": {
        "colab": {
          "base_uri": "https://localhost:8080/"
        },
        "id": "DWF-5DeEzuOd",
        "outputId": "497932ec-4d4c-4d2f-e625-86365fb4de61"
      },
      "source": [
        "n1=int(input(\"Enter the capacity of the first jug: \"))\r\n",
        "n2=int(input(\"Enter the capacity of the second jug: \"))\r\n",
        "n3=int(input(\"In which jug to be filled :\"))\r\n",
        "n4=int(input(\"How much to be filled: \"))\r\n",
        "class Waterjug:\r\n",
        "    def __init__(self,am,bm,a,b,g):\r\n",
        "        self.a_max = am;\r\n",
        "        self.b_max = bm;\r\n",
        "        self.a = a;\r\n",
        "        self.b = b;\r\n",
        "        self.goal = g;\r\n",
        "    def fillA(self):\r\n",
        "        self.a = self.a_max;\r\n",
        "        print ('(', self.a, ',',self.b, ')')\r\n",
        "    def fillB(self):\r\n",
        "        self.b = self.b_max;\r\n",
        "        print ('(', self.a, ',', self.b, ')')\r\n",
        "    def emptyA(self):\r\n",
        "        self.a = 0;\r\n",
        "        print ('(', self.a, ',', self.b, ')')\r\n",
        "    def emptyB(self):\r\n",
        "        self.b = 0;\r\n",
        "        print ('(', self.a, ',', self.b, ')')\r\n",
        "    def transferAtoB(self):\r\n",
        "        while (True):\r\n",
        "            self.a = self.a - 1\r\n",
        "            self.b = self.b + 1\r\n",
        "            if (self.a == 0 or self.b == self.b_max):\r\n",
        "                break\r\n",
        "        print ('(', self.a, ',', self.b, ')')\r\n",
        "    def main(self):\r\n",
        "        while (True):\r\n",
        "            if (self.a == self.goal or self.b == self.goal):\r\n",
        "                break\r\n",
        "            if (self.a == 0):\r\n",
        "                self.fillA()\r\n",
        "            elif (self.a > 0 and self.b != self.b_max):\r\n",
        "                self.transferAtoB()\r\n",
        "            elif (self.a > 0 and self.b == self.b_max):\r\n",
        "                self.emptyB()\r\n",
        "def pour(jug1, jug2):\r\n",
        "       max1, max2, fill = n1, n2, n4  \r\n",
        "       print(\"%d\\t%d\" % (jug1, jug2))\r\n",
        "       if jug2 is fill:\r\n",
        "         return       \r\n",
        "       elif jug2 is max2:\r\n",
        "            pour(0, jug1)\r\n",
        "       elif jug1 != 0 and jug2 is 0:          \r\n",
        "            pour(0, jug1)\r\n",
        "       elif jug1 is fill:         \r\n",
        "            pour(jug1, 0)\r\n",
        "       elif jug1 < max1:        \r\n",
        "            pour(max1, jug2)\r\n",
        "       elif jug1 < (max2-jug2):        \r\n",
        "            pour(0, (jug1+jug2))\r\n",
        "       else:        \r\n",
        "            pour(jug1-(max2-jug2), (max2-jug2)+jug2) \r\n",
        "print(\"JUG1\\tJUG2\")\r\n",
        "if(n3==2):\r\n",
        "    pour(0, 0)\r\n",
        "elif(n3==1):\r\n",
        "  print ('(', '0',',', '0', ')')\r\n",
        "  waterjug=Waterjug(n1,n2,0,0,n4);\r\n",
        "  waterjug.main();"
      ],
      "execution_count": 1,
      "outputs": [
        {
          "output_type": "stream",
          "text": [
            "Enter the capacity of the first jug: 7\n",
            "Enter the capacity of the second jug: 9\n",
            "In which jug to be filled :2\n",
            "How much to be filled: 8\n",
            "JUG1\tJUG2\n",
            "0\t0\n",
            "7\t0\n",
            "0\t7\n",
            "7\t7\n",
            "5\t9\n",
            "0\t5\n",
            "7\t5\n",
            "3\t9\n",
            "0\t3\n",
            "7\t3\n",
            "1\t9\n",
            "0\t1\n",
            "7\t1\n",
            "0\t8\n"
          ],
          "name": "stdout"
        }
      ]
    },
    {
      "cell_type": "code",
      "metadata": {
        "id": "Y33f1Yy20NJA"
      },
      "source": [
        ""
      ],
      "execution_count": null,
      "outputs": []
    }
  ]
}