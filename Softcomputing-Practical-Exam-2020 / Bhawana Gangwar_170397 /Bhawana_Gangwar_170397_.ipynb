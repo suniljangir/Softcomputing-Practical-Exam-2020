{
  "nbformat": 4,
  "nbformat_minor": 0,
  "metadata": {
    "colab": {
      "name": "Bhawana Gangwar_170397 .ipynb",
      "provenance": [],
      "authorship_tag": "ABX9TyPaYz7oOLdoe/BDCeLaMTxr",
      "include_colab_link": true
    },
    "kernelspec": {
      "name": "python3",
      "display_name": "Python 3"
    }
  },
  "cells": [
    {
      "cell_type": "markdown",
      "metadata": {
        "id": "view-in-github",
        "colab_type": "text"
      },
      "source": [
        "<a href=\"https://colab.research.google.com/github/bhawana19/Softcomputing-Practical-Exam-2020/blob/main/Softcomputing-Practical-Exam-2020%20/%20Bhawana%20Gangwar_170397%20/Bhawana_Gangwar_170397_.ipynb\" target=\"_parent\"><img src=\"https://colab.research.google.com/assets/colab-badge.svg\" alt=\"Open In Colab\"/></a>"
      ]
    },
    {
      "cell_type": "markdown",
      "metadata": {
        "id": "6ysr52L3zZK1"
      },
      "source": [
        "Write a program to implement MADALINE Neural Network using Python Language."
      ]
    },
    {
      "cell_type": "code",
      "metadata": {
        "colab": {
          "base_uri": "https://localhost:8080/"
        },
        "id": "Rlc_rPpCzYLe",
        "outputId": "edcee2c4-2193-4a2f-b225-dc25770bd1cc"
      },
      "source": [
        "import numpy as np\r\n",
        "x=np.array([[1,1],[1,-1],[-1,1],[-1,-1]])\r\n",
        "t=np.array([[1],[1],[1],[-1]])\r\n",
        "w=np.array([[0],[0]])\r\n",
        "b=0\r\n",
        "theta=float(input(\"enter new theta\"))\r\n",
        "alpha=float(input(\"enter new alpha\"))\r\n",
        "yin=np.zeros(shape=(4,1))\r\n",
        "y=np.zeros(shape=(4,1))\r\n",
        "i=0\r\n",
        "found=0\r\n",
        "while(found==0):\r\n",
        "    yin=x[i][0]*w[0]+x[i][1]*w[1]\r\n",
        "    yin = yin+b\r\n",
        "    if(yin>theta):\r\n",
        "        y[i] = 1\r\n",
        "    elif(yin<=theta and yin>=-theta):\r\n",
        "        y[i]=0\r\n",
        "    else:\r\n",
        "        y[i]=-1\r\n",
        "    if (y[i]==t[i]):\r\n",
        "        print(\"NO UPDATION REQUIRED\")\r\n",
        "        print(y[i])\r\n",
        "        if(i<3):\r\n",
        "            i=i+1\r\n",
        "        else:\r\n",
        "            i=0\r\n",
        "    else:\r\n",
        "        print(\"MODEL IS NOT TRAINED\")\r\n",
        "        print(\"The value of output is\")\r\n",
        "        print(y)\r\n",
        "       \r\n",
        "        w[0]=w[0]+alpha*x[i][0]*t[i]\r\n",
        "        w[1]=w[1]+alpha*x[i][1]*t[i]\r\n",
        "        b = b+alpha*t[i]\r\n",
        "        if(i<3):\r\n",
        "            i=i+1\r\n",
        "        else:\r\n",
        "            i=0\r\n",
        "    if(y==t).all():\r\n",
        "        found=1\r\n",
        "print(\"The final weight matrix is \")\r\n",
        "print(w)\r\n",
        "print(\"The final output is:\")\r\n",
        "print(y)\r\n"
      ],
      "execution_count": 2,
      "outputs": [
        {
          "output_type": "stream",
          "text": [
            "enter new theta5\n",
            "enter new alpha8\n",
            "MODEL IS NOT TRAINED\n",
            "The value of output is\n",
            "[[0.]\n",
            " [0.]\n",
            " [0.]\n",
            " [0.]]\n",
            "NO UPDATION REQUIRED\n",
            "[1.]\n",
            "NO UPDATION REQUIRED\n",
            "[1.]\n",
            "NO UPDATION REQUIRED\n",
            "[-1.]\n",
            "NO UPDATION REQUIRED\n",
            "[1.]\n",
            "The final weight matrix is \n",
            "[[8]\n",
            " [8]]\n",
            "The final output is:\n",
            "[[ 1.]\n",
            " [ 1.]\n",
            " [ 1.]\n",
            " [-1.]]\n"
          ],
          "name": "stdout"
        }
      ]
    },
    {
      "cell_type": "code",
      "metadata": {
        "id": "XMiHYC0_zi7q"
      },
      "source": [
        ""
      ],
      "execution_count": null,
      "outputs": []
    }
  ]
}