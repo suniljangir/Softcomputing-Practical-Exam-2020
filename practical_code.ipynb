{
  "nbformat": 4,
  "nbformat_minor": 0,
  "metadata": {
    "kernelspec": {
      "display_name": "Python 3",
      "language": "python",
      "name": "python3"
    },
    "language_info": {
      "codemirror_mode": {
        "name": "ipython",
        "version": 3
      },
      "file_extension": ".py",
      "mimetype": "text/x-python",
      "name": "python",
      "nbconvert_exporter": "python",
      "pygments_lexer": "ipython3",
      "version": "3.7.3"
    },
    "colab": {
      "name": "practical code",
      "provenance": [],
      "include_colab_link": true
    }
  },
  "cells": [
    {
      "cell_type": "markdown",
      "metadata": {
        "id": "view-in-github",
        "colab_type": "text"
      },
      "source": [
        "<a href=\"https://colab.research.google.com/github/pooja7490/Softcomputing-Practical-Exam-2020/blob/main/practical_code.ipynb\" target=\"_parent\"><img src=\"https://colab.research.google.com/assets/colab-badge.svg\" alt=\"Open In Colab\"/></a>"
      ]
    },
    {
      "cell_type": "markdown",
      "metadata": {
        "id": "lfnq2UbbzN5N"
      },
      "source": [
        "# MP Neuron for Logic Gates (AND,OR,AND-NOT)"
      ]
    },
    {
      "cell_type": "code",
      "metadata": {
        "id": "qUG2ruSszN5T",
        "outputId": "9f49c225-abfd-4d54-d908-0ff8be491218"
      },
      "source": [
        "#AND\n",
        "\n",
        "import numpy as np\n",
        "x=np.array([[1,1],[1,0],[0,1],[0,0]])\n",
        "t=np.array([[1],[0],[0],[0]])\n",
        "w=np.array([[0],[0]])\n",
        "theta=1\n",
        "yin=np.zeros(shape=(4,1))\n",
        "y=np.zeros(shape=(4,1))\n",
        "yin=np.dot(x,w)\n",
        "i=0\n",
        "found=0\n",
        "while(found==0):\n",
        "        i=0\n",
        "        yin=np.dot(x,w)\n",
        "    \t#print(yin)\n",
        "        while(i<4):\n",
        "            if yin[i]>=theta:\n",
        "                y[i]=1\n",
        "                i=i+1\n",
        "            else:\n",
        "            \ty[i]=0\n",
        "            \ti=i+1\n",
        "    \n",
        "        if (y==t).all():\n",
        "        \tprint(\"MODEL IS TRAINED \")\n",
        "        \tprint(\"\\nOutput : \\n\",y)\n",
        "        \tprint(\"\\nweights : \",w,\"\\n\")\n",
        "        \tprint(\"theta : \",theta)\n",
        "        \tfound=1\n",
        "        else:\n",
        "       \t    print(\"MODEL IS NOT TRAINED\")\n",
        "            w=np.zeros(shape=(0,0))\n",
        "            theta=int(input(\"Enter New Theta : \"))\n",
        "            for k in range(int(2)):\n",
        "            \tw1=int(input(\"Enter Weight : \"))\n",
        "            \tw=np.append(w,w1)\n",
        "\n",
        "\n",
        "\n"
      ],
      "execution_count": null,
      "outputs": [
        {
          "output_type": "stream",
          "text": [
            "MODEL IS NOT TRAINED\n",
            "Enter New Theta : 2\n",
            "Enter Weight : 1\n",
            "Enter Weight : 1\n",
            "MODEL IS TRAINED \n",
            "\n",
            "Output : \n",
            " [[1.]\n",
            " [0.]\n",
            " [0.]\n",
            " [0.]]\n",
            "\n",
            "weights :  [1. 1.] \n",
            "\n",
            "theta :  2\n"
          ],
          "name": "stdout"
        }
      ]
    },
    {
      "cell_type": "code",
      "metadata": {
        "id": "mbKr2EgozN5V",
        "outputId": "c07f8659-1384-4e63-b177-f4763147614b"
      },
      "source": [
        "#OR\n",
        "\n",
        "import numpy as np\n",
        "x=np.array([[1,1],[1,0],[0,1],[0,0]])\n",
        "t=np.array([[1],[1],[1],[0]])\n",
        "w=np.array([[0],[0]])\n",
        "theta=1\n",
        "yin=np.zeros(shape=(4,1))\n",
        "y=np.zeros(shape=(4,1))\n",
        "yin=np.dot(x,w)\n",
        "i=0\n",
        "found=0\n",
        "while(found==0):\n",
        "    i=0\n",
        "    yin=np.dot(x,w)\n",
        "    while(i<4):\n",
        "        if yin[i]>=theta:\n",
        "            y[i]=1\n",
        "            i=i+1\n",
        "        else:\n",
        "            y[i]=0\n",
        "            i=i+1\n",
        "    #print(\"y\",y)\n",
        "    #print(\"t\",t)\n",
        "    if(y==t).all():\n",
        "        print(\"MODEL IS TRAINED \")\n",
        "        print(\"\\nOutput : \\n\",y)\n",
        "        print(\"\\nweights : \",w,\"\\n\")\n",
        "        print(\"theta : \",theta)\n",
        "        found=1\n",
        "    else:\n",
        "       \tprint(\"MODEL IS NOT TRAINED\")\n",
        "        w=np.zeros(shape=(0,0))\n",
        "        theta=int(input(\"Enter New Theta : \"))\n",
        "        for k in range(int(2)):\n",
        "            w1=int(input(\"Enter Weight : \"))\n",
        "            w=np.append(w,w1)\n",
        "\n",
        "\n"
      ],
      "execution_count": null,
      "outputs": [
        {
          "output_type": "stream",
          "text": [
            "MODEL IS NOT TRAINED\n",
            "Enter New Theta : 1\n",
            "Enter Weight : 1\n",
            "Enter Weight : 1\n",
            "MODEL IS TRAINED \n",
            "\n",
            "Output : \n",
            " [[1.]\n",
            " [1.]\n",
            " [1.]\n",
            " [0.]]\n",
            "\n",
            "weights :  [1. 1.] \n",
            "\n",
            "theta :  1\n"
          ],
          "name": "stdout"
        }
      ]
    },
    {
      "cell_type": "code",
      "metadata": {
        "id": "k5kLE6YGzN5V",
        "outputId": "54b00e24-b63f-45e3-aad7-57263ab20407"
      },
      "source": [
        "#NAND\n",
        "import numpy as np\n",
        "x=np.array([[1,1],[1,0],[0,1],[0,0]])\n",
        "t=np.array([[0],[1],[0],[0]])\n",
        "w=np.array([[0],[0]])\n",
        "theta=1\n",
        "yin=np.zeros(shape=(4,1))\n",
        "y=np.zeros(shape=(4,1))\n",
        "yin=np.dot(x,w)\n",
        "i=0\n",
        "found=0\n",
        "while(found==0):\n",
        "    i=0\n",
        "    yin=np.dot(x,w)\n",
        "    \t#print(yin)\n",
        "    while(i<4):\n",
        "        if yin[i]>=theta:\n",
        "            y[i]=1\n",
        "            i=i+1\n",
        "       \telse:\n",
        "            y[i]=0\n",
        "            i=i+1\n",
        "    #print(\"y\",y)\n",
        "    #print(\"t\",t)\n",
        "    if (y==t).all():\n",
        "        print(\"MODEL IS TRAINED \")\n",
        "        print(\"\\nOutput : \\n\",y)\n",
        "        print(\"\\nweights : \",w,\"\\n\")\n",
        "        print(\"theta : \",theta)\n",
        "        found=1\n",
        "    else:  \n",
        "        print(\"MODEL IS NOT TRAINED\")\n",
        "        w=np.zeros(shape=(0,0))\n",
        "        theta=int(input(\"Enter New Theta : \"))\n",
        "        for k in range(int(2)):\n",
        "            w1=int(input(\"Enter Weight : \"))\n",
        "            w=np.append(w,w1)\n",
        "\n"
      ],
      "execution_count": null,
      "outputs": [
        {
          "output_type": "stream",
          "text": [
            "MODEL IS NOT TRAINED\n",
            "Enter New Theta : 1\n",
            "Enter Weight : 1\n",
            "Enter Weight : -1\n",
            "MODEL IS TRAINED \n",
            "\n",
            "Output : \n",
            " [[0.]\n",
            " [1.]\n",
            " [0.]\n",
            " [0.]]\n",
            "\n",
            "weights :  [ 1. -1.] \n",
            "\n",
            "theta :  1\n"
          ],
          "name": "stdout"
        }
      ]
    },
    {
      "cell_type": "code",
      "metadata": {
        "colab": {
          "base_uri": "https://localhost:8080/"
        },
        "id": "GHb9DnvgzN5W",
        "outputId": "305cc85a-226e-4cc1-e27b-8a2a8c23767d"
      },
      "source": [
        "#NOT\n",
        "\n",
        "import numpy as np\n",
        "x=np.array([[0],[1]])\n",
        "t=np.array([[1],[0]])\n",
        "w=np.array([0])\n",
        "theta=1\n",
        "yin=np.zeros(shape=(2,1))\n",
        "y=np.zeros(shape=(2,1))\n",
        "yin=np.dot(x,w)\n",
        "i=0\n",
        "found=0\n",
        "while(found==0):\n",
        "    i=0\n",
        "    yin=np.dot(x,w)\n",
        "    print(yin)\n",
        "    while(i<2):\n",
        "        if yin[i]>=theta:\n",
        "            y[i]=1 \n",
        "            i=i+1\n",
        "            \n",
        "            \t#if(i==4):\n",
        "                \t#break\n",
        "        else:\n",
        "            y[i]=0\n",
        "            i=i+1\n",
        "    print(\"y\",y)\n",
        "    print(\"t\",t)\n",
        "    if (y==t).all():\n",
        "        print(\"MODEL IS TRAINED \")\n",
        "        print(\"\\nOutput : \\n\",y)\n",
        "        print(\"\\nweights : \",w,\"\\n\")\n",
        "        print(\"theta : \",theta)\n",
        "        found=1\n",
        "    else:\n",
        "        print(\"MODEL IS NOT TRAINED\")\n",
        "        w=np.zeros(shape=(0,0))\n",
        "        theta=int(input(\"Enter New Theta : \"))\n",
        "        for k in range(int(1)):\n",
        "            w=int(input(\"Enter Weight : \"))\n",
        "\n"
      ],
      "execution_count": 2,
      "outputs": [
        {
          "output_type": "stream",
          "text": [
            "[0 0]\n",
            "y [[0.]\n",
            " [0.]]\n",
            "t [[1]\n",
            " [0]]\n",
            "MODEL IS NOT TRAINED\n",
            "Enter New Theta : 2\n",
            "Enter Weight : 1\n",
            "[[0]\n",
            " [1]]\n",
            "y [[0.]\n",
            " [0.]]\n",
            "t [[1]\n",
            " [0]]\n",
            "MODEL IS NOT TRAINED\n",
            "Enter New Theta : 1\n",
            "Enter Weight : 1\n",
            "[[0]\n",
            " [1]]\n",
            "y [[0.]\n",
            " [1.]]\n",
            "t [[1]\n",
            " [0]]\n",
            "MODEL IS NOT TRAINED\n",
            "Enter New Theta : -1\n",
            "Enter Weight : 1\n",
            "[[0]\n",
            " [1]]\n",
            "y [[1.]\n",
            " [1.]]\n",
            "t [[1]\n",
            " [0]]\n",
            "MODEL IS NOT TRAINED\n",
            "Enter New Theta : 1\n",
            "Enter Weight : -1\n",
            "[[ 0]\n",
            " [-1]]\n",
            "y [[0.]\n",
            " [0.]]\n",
            "t [[1]\n",
            " [0]]\n",
            "MODEL IS NOT TRAINED\n",
            "Enter New Theta : 0\n",
            "Enter Weight : -1\n",
            "[[ 0]\n",
            " [-1]]\n",
            "y [[1.]\n",
            " [0.]]\n",
            "t [[1]\n",
            " [0]]\n",
            "MODEL IS TRAINED \n",
            "\n",
            "Output : \n",
            " [[1.]\n",
            " [0.]]\n",
            "\n",
            "weights :  -1 \n",
            "\n",
            "theta :  0\n"
          ],
          "name": "stdout"
        }
      ]
    }
  ]
}