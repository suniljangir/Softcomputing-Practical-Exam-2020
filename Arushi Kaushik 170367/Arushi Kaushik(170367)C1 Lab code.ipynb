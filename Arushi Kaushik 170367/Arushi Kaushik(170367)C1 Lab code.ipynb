{
 "cells": [
  {
   "cell_type": "code",
   "execution_count": 1,
   "metadata": {},
   "outputs": [
    {
     "name": "stdout",
     "output_type": "stream",
     "text": [
      "enter the weight 1: -2\n",
      "enter the weight 2: -2\n",
      "enter the theta:-2\n",
      "Input array\n",
      "[[0, 0], [0, 1], [1, 0], [1, 1]]\n",
      "Actual output\n",
      "[1, 1, 1, 0]\n",
      "Expected output\n",
      "[1, 1, 1, 0]\n",
      "assumed weights and theta are correct\n"
     ]
    }
   ],
   "source": [
    "w1 = int(input(\"enter the weight 1: \"))\n",
    "\n",
    "w2 = int(input(\"enter the weight 2: \"))\n",
    "\n",
    "theta = int(input(\"enter the theta:\"))\n",
    "\n",
    "inputarray = [[0,0],[0,1],[1,0],[1,1]]\n",
    "\n",
    "expected = [1,1,1,0]\n",
    "\n",
    "actual = []\n",
    "\n",
    "for i in range(0,4):\n",
    "\n",
    "    temp = inputarray[i][0]*w1+inputarray[i][1]*w2\n",
    "\n",
    "    if(temp >= theta):\n",
    "\n",
    "        actual.append(1)\n",
    "\n",
    "    else:\n",
    "\n",
    "        actual.append(0)\n",
    "\n",
    "for i in range(0,4):\n",
    "\n",
    "    if(expected[i] == actual[i]):\n",
    "\n",
    "        found = 1\n",
    "\n",
    "    else:\n",
    "\n",
    "        found = 0\n",
    "\n",
    "        break\n",
    "\n",
    "print(\"Input array\")\n",
    "\n",
    "print(inputarray)\n",
    "\n",
    "print(\"Actual output\")\n",
    "\n",
    "print(actual)\n",
    "\n",
    "print(\"Expected output\")\n",
    "\n",
    "print(expected)\n",
    "\n",
    "if(found ==1):\n",
    "\n",
    "    print(\"assumed weights and theta are correct\")\n",
    "\n",
    "else:\n",
    "\n",
    "    print(\"assumed weights and theta are incorrect\")"
   ]
  }
 ],
 "metadata": {
  "kernelspec": {
   "display_name": "Python 3",
   "language": "python",
   "name": "python3"
  },
  "language_info": {
   "codemirror_mode": {
    "name": "ipython",
    "version": 3
   },
   "file_extension": ".py",
   "mimetype": "text/x-python",
   "name": "python",
   "nbconvert_exporter": "python",
   "pygments_lexer": "ipython3",
   "version": "3.7.6"
  }
 },
 "nbformat": 4,
 "nbformat_minor": 4
}
