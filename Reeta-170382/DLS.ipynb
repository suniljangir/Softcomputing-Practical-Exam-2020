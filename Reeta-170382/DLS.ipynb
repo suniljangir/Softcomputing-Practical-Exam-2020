{
  "nbformat": 4,
  "nbformat_minor": 0,
  "metadata": {
    "colab": {
      "name": "DLS.ipynb",
      "provenance": []
    },
    "kernelspec": {
      "name": "python3",
      "display_name": "Python 3"
    }
  },
  "cells": [
    {
      "cell_type": "code",
      "metadata": {
        "colab": {
          "base_uri": "https://localhost:8080/"
        },
        "id": "vN7tk_oxyKw0",
        "outputId": "7c59c160-84cb-49e0-d1d9-1bdc73238243"
      },
      "source": [
        "#depth-limit-search\r\n",
        "test = {}\r\n",
        "\"\"\"\"\r\n",
        "SRRXG\r\n",
        "RXRXR\r\n",
        "RRRXR\r\n",
        "XRXRR\r\n",
        "RRRRX\r\n",
        "\"\"\"\r\n",
        "test['S'] = ['2', '6']\r\n",
        "test['2'] = ['S', '3']\r\n",
        "test['3'] = ['2','8']\r\n",
        "test['G'] = ['10']\r\n",
        "test['6'] = ['S', '11']\r\n",
        "test['8'] = ['3', '13']\r\n",
        "test['10'] = ['G', '15']\r\n",
        "test['11'] = ['6', '12']\r\n",
        "test['12'] = ['11', '13', '17']\r\n",
        "test['13'] = ['8', '12']\r\n",
        "test['15'] = ['10', '20']\r\n",
        "test['17'] = ['12','22']\r\n",
        "test['19'] = ['20', '24']\r\n",
        "test['20'] = ['15','19']\r\n",
        "test['21'] = ['22']\r\n",
        "test['22'] = ['17','21','23']\r\n",
        "test['23'] = ['22', '24']\r\n",
        "test['24'] = ['19','23']\r\n",
        "print (test)\r\n",
        "\r\n",
        "visited = {str(i) : False for i in range(1,26)}\r\n",
        "visited['S'] = False\r\n",
        "visited['G'] = False\r\n",
        "\r\n",
        "def dls(start, goal):\r\n",
        "    depth = 0\r\n",
        "    limit = 200\r\n",
        "    OPEN=[]\r\n",
        "    CLOSED=[]\r\n",
        "    OPEN.append(start)\r\n",
        "    visited[\"S\"] = True\r\n",
        "    while OPEN != []: # Step 2\r\n",
        "        if depth<=limit:\r\n",
        "            current = OPEN.pop() \r\n",
        "            \r\n",
        "            if current == goal:\r\n",
        "                \r\n",
        "                print(\"Desitination/Goal Node Found\")\r\n",
        "                \r\n",
        "                return True\r\n",
        "            else:\r\n",
        "                \r\n",
        "                lst = successors(current)\r\n",
        "                for i in lst:\r\n",
        "                    \r\n",
        "                    if(not(visited[i])):\r\n",
        "                        OPEN.append(i)\r\n",
        "                        visited[i] = True\r\n",
        "                depth +=1\r\n",
        "\r\n",
        "        else:\r\n",
        "            print(\"It was not found within depth limit\")\r\n",
        "            return False\r\n",
        "\r\n",
        "\r\n",
        "    return False"
      ],
      "execution_count": null,
      "outputs": [
        {
          "output_type": "stream",
          "text": [
            "{'S': ['2', '6'], '2': ['S', '3'], '3': ['2', '8'], 'G': ['10'], '6': ['S', '11'], '8': ['3', '13'], '10': ['G', '15'], '11': ['6', '12'], '12': ['11', '13', '17'], '13': ['8', '12'], '15': ['10', '20'], '17': ['12', '22'], '19': ['20', '24'], '20': ['15', '19'], '21': ['22'], '22': ['17', '21', '23'], '23': ['22', '24'], '24': ['19', '23']}\n"
          ],
          "name": "stdout"
        }
      ]
    }
  ]
}