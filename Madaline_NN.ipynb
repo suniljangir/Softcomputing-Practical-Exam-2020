{
  "nbformat": 4,
  "nbformat_minor": 0,
  "metadata": {
    "colab": {
      "name": "Madaline NN.ipynb",
      "provenance": [],
      "authorship_tag": "ABX9TyOOqUJ+xwt/mJ2RNgCspgUa",
      "include_colab_link": true
    },
    "kernelspec": {
      "name": "python3",
      "display_name": "Python 3"
    }
  },
  "cells": [
    {
      "cell_type": "markdown",
      "metadata": {
        "id": "view-in-github",
        "colab_type": "text"
      },
      "source": [
        "<a href=\"https://colab.research.google.com/github/TarishiSingh/Softcomputing-Practical-Exam-2020/blob/main/Madaline_NN.ipynb\" target=\"_parent\"><img src=\"https://colab.research.google.com/assets/colab-badge.svg\" alt=\"Open In Colab\"/></a>"
      ]
    },
    {
      "cell_type": "markdown",
      "metadata": {
        "id": "tFPtLUqP7Hj7"
      },
      "source": [
        "AIM: Write a program to implement MADALINE Neural Network using Python Language"
      ]
    },
    {
      "cell_type": "code",
      "metadata": {
        "colab": {
          "base_uri": "https://localhost:8080/"
        },
        "id": "IsAE-0RO352K",
        "outputId": "f7af9f79-8d92-4067-c6ed-789217432d34"
      },
      "source": [
        "import numpy as np \r\n",
        "x=np.array([[1,1],[1,-1],[-1,1],[-1,-1]])\r\n",
        "t=np.array([[1],[1],[1],[-1]])\r\n",
        "w=np.array([[0],[0]])\r\n",
        "b=0\r\n",
        "theta=float(input(\"Enter new theta\"))\r\n",
        "alpha=float(input(\"Enter new alpha\"))\r\n",
        "yin=np.zeros(shape=(4,1))\r\n",
        "y=np.zeros(shape=(4,1))\r\n",
        "i=0\r\n",
        "found=0\r\n",
        "while(found==0):\r\n",
        "  yin=x[i][0]*w[0]+x[i][1]*w[1]\r\n",
        "  yin = yin+b\r\n",
        "  if(yin>theta):\r\n",
        "    y[i]=1\r\n",
        "  elif(yin<=theta and yin>=-theta):\r\n",
        "    y[i]=0\r\n",
        "  else:\r\n",
        "    y[i]=-1\r\n",
        "  if (y[i] == t[i]):\r\n",
        "    print(\"No updation required\")\r\n",
        "    print(y[i])\r\n",
        "    if(i<3):\r\n",
        "      i=i+1\r\n",
        "    else:\r\n",
        "      i=0\r\n",
        "  else:\r\n",
        "    print(\"Model not trained\")\r\n",
        "    print(\"The value of the output is\")\r\n",
        "    print(y)\r\n",
        "\r\n",
        "    w[0]=w[0]+alpha*x[i][0]*t[i]\r\n",
        "    w[1]=w[1]+alpha*x[i][1]*t[i]\r\n",
        "    b=b+alpha*t[i]\r\n",
        "    if(i<3):\r\n",
        "      i=i+1\r\n",
        "    else:\r\n",
        "      i=0\r\n",
        "  if(y==t).all():\r\n",
        "    found=1\r\n",
        "print(\"The final weight matrix is:\")\r\n",
        "print(w)\r\n",
        "print(\"The final output is:\")\r\n",
        "print(y)"
      ],
      "execution_count": 2,
      "outputs": [
        {
          "output_type": "stream",
          "text": [
            "Enter new theta5\n",
            "Enter new alpha6\n",
            "Model not trained\n",
            "The value of the output is\n",
            "[[0.]\n",
            " [0.]\n",
            " [0.]\n",
            " [0.]]\n",
            "No updation required\n",
            "[1.]\n",
            "No updation required\n",
            "[1.]\n",
            "No updation required\n",
            "[-1.]\n",
            "No updation required\n",
            "[1.]\n",
            "The final weight matrix is:\n",
            "[[6]\n",
            " [6]]\n",
            "The final output is:\n",
            "[[ 1.]\n",
            " [ 1.]\n",
            " [ 1.]\n",
            " [-1.]]\n"
          ],
          "name": "stdout"
        }
      ]
    }
  ]
}